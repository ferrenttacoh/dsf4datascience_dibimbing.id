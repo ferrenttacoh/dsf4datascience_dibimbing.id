{
 "cells": [
  {
   "cell_type": "markdown",
   "metadata": {
    "id": "vPuaXMup8fyu"
   },
   "source": [
    "*  Nama: Ferrent Georgina Rini Tacoh\n",
    "*  Kelas DSF.4: Data Science"
   ]
  },
  {
   "cell_type": "markdown",
   "metadata": {
    "id": "TIigU9si9PCj"
   },
   "source": [
    "Import Library Pandas dan Numpy"
   ]
  },
  {
   "cell_type": "code",
   "execution_count": 26,
   "metadata": {
    "id": "GKQzhyisMnd7"
   },
   "outputs": [],
   "source": [
    "import pandas as pd\n",
    "import numpy as np"
   ]
  },
  {
   "cell_type": "markdown",
   "metadata": {
    "id": "05OixmYtMneQ"
   },
   "source": [
    "### Question 1"
   ]
  },
  {
   "cell_type": "markdown",
   "metadata": {
    "id": "G5ezTfIBMneb"
   },
   "source": [
    "Maximum and Minimum only gives us 1 value, which is the largest and smallest value of a column. Can you find a way to give us the 3rd largest value and 5th smallest value in a column?"
   ]
  },
  {
   "cell_type": "code",
   "execution_count": 27,
   "metadata": {
    "id": "CYoLwbXjMnec"
   },
   "outputs": [],
   "source": [
    "df = pd.DataFrame({\n",
    "    'Name':['Aldo', 'Bryan', 'Cindy', 'Dilan', 'Erika', 'Fitri', 'Gerald', 'Halim'],\n",
    "    'Score':[80, 85, 87, 75, 77, 83, 79, 83]\n",
    "})"
   ]
  },
  {
   "cell_type": "code",
   "execution_count": 28,
   "metadata": {
    "colab": {
     "base_uri": "https://localhost:8080/",
     "height": 300
    },
    "id": "kjpUjA2sMned",
    "outputId": "e009eb6b-d1e0-4b62-a25e-f452ca276baf"
   },
   "outputs": [
    {
     "data": {
      "text/html": [
       "<div>\n",
       "<style scoped>\n",
       "    .dataframe tbody tr th:only-of-type {\n",
       "        vertical-align: middle;\n",
       "    }\n",
       "\n",
       "    .dataframe tbody tr th {\n",
       "        vertical-align: top;\n",
       "    }\n",
       "\n",
       "    .dataframe thead th {\n",
       "        text-align: right;\n",
       "    }\n",
       "</style>\n",
       "<table border=\"1\" class=\"dataframe\">\n",
       "  <thead>\n",
       "    <tr style=\"text-align: right;\">\n",
       "      <th></th>\n",
       "      <th>Name</th>\n",
       "      <th>Score</th>\n",
       "    </tr>\n",
       "  </thead>\n",
       "  <tbody>\n",
       "    <tr>\n",
       "      <th>0</th>\n",
       "      <td>Aldo</td>\n",
       "      <td>80</td>\n",
       "    </tr>\n",
       "    <tr>\n",
       "      <th>1</th>\n",
       "      <td>Bryan</td>\n",
       "      <td>85</td>\n",
       "    </tr>\n",
       "    <tr>\n",
       "      <th>2</th>\n",
       "      <td>Cindy</td>\n",
       "      <td>87</td>\n",
       "    </tr>\n",
       "    <tr>\n",
       "      <th>3</th>\n",
       "      <td>Dilan</td>\n",
       "      <td>75</td>\n",
       "    </tr>\n",
       "    <tr>\n",
       "      <th>4</th>\n",
       "      <td>Erika</td>\n",
       "      <td>77</td>\n",
       "    </tr>\n",
       "    <tr>\n",
       "      <th>5</th>\n",
       "      <td>Fitri</td>\n",
       "      <td>83</td>\n",
       "    </tr>\n",
       "    <tr>\n",
       "      <th>6</th>\n",
       "      <td>Gerald</td>\n",
       "      <td>79</td>\n",
       "    </tr>\n",
       "    <tr>\n",
       "      <th>7</th>\n",
       "      <td>Halim</td>\n",
       "      <td>83</td>\n",
       "    </tr>\n",
       "  </tbody>\n",
       "</table>\n",
       "</div>"
      ],
      "text/plain": [
       "     Name  Score\n",
       "0    Aldo     80\n",
       "1   Bryan     85\n",
       "2   Cindy     87\n",
       "3   Dilan     75\n",
       "4   Erika     77\n",
       "5   Fitri     83\n",
       "6  Gerald     79\n",
       "7   Halim     83"
      ]
     },
     "execution_count": 28,
     "metadata": {},
     "output_type": "execute_result"
    }
   ],
   "source": [
    "df"
   ]
  },
  {
   "cell_type": "code",
   "execution_count": 29,
   "metadata": {
    "colab": {
     "base_uri": "https://localhost:8080/",
     "height": 0
    },
    "id": "YigP-jj_Mnef",
    "outputId": "49615aa5-02a4-4c41-894a-45209641deb2"
   },
   "outputs": [
    {
     "data": {
      "text/plain": [
       "87"
      ]
     },
     "execution_count": 29,
     "metadata": {},
     "output_type": "execute_result"
    }
   ],
   "source": [
    "df['Score'].max()"
   ]
  },
  {
   "cell_type": "markdown",
   "metadata": {
    "id": "MJOp86LIMneg"
   },
   "source": [
    "```df['Score'].max()``` gives us the highest score. What should we do if we want to get the 3rd highest score?"
   ]
  },
  {
   "cell_type": "code",
   "execution_count": 30,
   "metadata": {
    "colab": {
     "base_uri": "https://localhost:8080/",
     "height": 112
    },
    "id": "bU5clpMkMneh",
    "outputId": "5e8a49d4-5a81-42ea-b9c7-1915f4343602"
   },
   "outputs": [
    {
     "data": {
      "text/html": [
       "<div>\n",
       "<style scoped>\n",
       "    .dataframe tbody tr th:only-of-type {\n",
       "        vertical-align: middle;\n",
       "    }\n",
       "\n",
       "    .dataframe tbody tr th {\n",
       "        vertical-align: top;\n",
       "    }\n",
       "\n",
       "    .dataframe thead th {\n",
       "        text-align: right;\n",
       "    }\n",
       "</style>\n",
       "<table border=\"1\" class=\"dataframe\">\n",
       "  <thead>\n",
       "    <tr style=\"text-align: right;\">\n",
       "      <th></th>\n",
       "      <th>Name</th>\n",
       "      <th>Score</th>\n",
       "    </tr>\n",
       "  </thead>\n",
       "  <tbody>\n",
       "    <tr>\n",
       "      <th>5</th>\n",
       "      <td>Fitri</td>\n",
       "      <td>83</td>\n",
       "    </tr>\n",
       "    <tr>\n",
       "      <th>7</th>\n",
       "      <td>Halim</td>\n",
       "      <td>83</td>\n",
       "    </tr>\n",
       "  </tbody>\n",
       "</table>\n",
       "</div>"
      ],
      "text/plain": [
       "    Name  Score\n",
       "5  Fitri     83\n",
       "7  Halim     83"
      ]
     },
     "execution_count": 30,
     "metadata": {},
     "output_type": "execute_result"
    }
   ],
   "source": [
    "df[df['Score'] == df['Score'].nlargest(3).iloc[-1]]"
   ]
  },
  {
   "cell_type": "code",
   "execution_count": 31,
   "metadata": {
    "colab": {
     "base_uri": "https://localhost:8080/",
     "height": 112
    },
    "id": "r0xgTtC4Mnei",
    "outputId": "21f6e6fe-6404-45d5-8ccd-e0eb7b5299f8"
   },
   "outputs": [
    {
     "data": {
      "text/html": [
       "<div>\n",
       "<style scoped>\n",
       "    .dataframe tbody tr th:only-of-type {\n",
       "        vertical-align: middle;\n",
       "    }\n",
       "\n",
       "    .dataframe tbody tr th {\n",
       "        vertical-align: top;\n",
       "    }\n",
       "\n",
       "    .dataframe thead th {\n",
       "        text-align: right;\n",
       "    }\n",
       "</style>\n",
       "<table border=\"1\" class=\"dataframe\">\n",
       "  <thead>\n",
       "    <tr style=\"text-align: right;\">\n",
       "      <th></th>\n",
       "      <th>Name</th>\n",
       "      <th>Score</th>\n",
       "    </tr>\n",
       "  </thead>\n",
       "  <tbody>\n",
       "    <tr>\n",
       "      <th>5</th>\n",
       "      <td>Fitri</td>\n",
       "      <td>83</td>\n",
       "    </tr>\n",
       "    <tr>\n",
       "      <th>7</th>\n",
       "      <td>Halim</td>\n",
       "      <td>83</td>\n",
       "    </tr>\n",
       "  </tbody>\n",
       "</table>\n",
       "</div>"
      ],
      "text/plain": [
       "    Name  Score\n",
       "5  Fitri     83\n",
       "7  Halim     83"
      ]
     },
     "execution_count": 31,
     "metadata": {},
     "output_type": "execute_result"
    }
   ],
   "source": [
    "df[df['Score'] == df['Score'].nsmallest(5).iloc[-1]]"
   ]
  },
  {
   "cell_type": "code",
   "execution_count": 31,
   "metadata": {
    "id": "mNofMQRDMnej"
   },
   "outputs": [],
   "source": []
  },
  {
   "cell_type": "markdown",
   "metadata": {
    "id": "TXhxadxYMnej"
   },
   "source": [
    "### Question 2"
   ]
  },
  {
   "cell_type": "markdown",
   "metadata": {
    "id": "HtyjhJOQMnek"
   },
   "source": [
    "Cummulative Sum. Example:"
   ]
  },
  {
   "cell_type": "code",
   "execution_count": 32,
   "metadata": {
    "id": "al1XwjvKMnen"
   },
   "outputs": [],
   "source": [
    "df_2 = pd.DataFrame({\n",
    "    'Single Value':[0,1,3,4,7]\n",
    "})"
   ]
  },
  {
   "cell_type": "code",
   "execution_count": 33,
   "metadata": {
    "colab": {
     "base_uri": "https://localhost:8080/",
     "height": 206
    },
    "id": "Xu2QWf89Mnep",
    "outputId": "4862b3c6-b05c-4937-b2ae-ea1a0dc5d785"
   },
   "outputs": [
    {
     "data": {
      "text/html": [
       "<div>\n",
       "<style scoped>\n",
       "    .dataframe tbody tr th:only-of-type {\n",
       "        vertical-align: middle;\n",
       "    }\n",
       "\n",
       "    .dataframe tbody tr th {\n",
       "        vertical-align: top;\n",
       "    }\n",
       "\n",
       "    .dataframe thead th {\n",
       "        text-align: right;\n",
       "    }\n",
       "</style>\n",
       "<table border=\"1\" class=\"dataframe\">\n",
       "  <thead>\n",
       "    <tr style=\"text-align: right;\">\n",
       "      <th></th>\n",
       "      <th>Single Value</th>\n",
       "    </tr>\n",
       "  </thead>\n",
       "  <tbody>\n",
       "    <tr>\n",
       "      <th>0</th>\n",
       "      <td>0</td>\n",
       "    </tr>\n",
       "    <tr>\n",
       "      <th>1</th>\n",
       "      <td>1</td>\n",
       "    </tr>\n",
       "    <tr>\n",
       "      <th>2</th>\n",
       "      <td>3</td>\n",
       "    </tr>\n",
       "    <tr>\n",
       "      <th>3</th>\n",
       "      <td>4</td>\n",
       "    </tr>\n",
       "    <tr>\n",
       "      <th>4</th>\n",
       "      <td>7</td>\n",
       "    </tr>\n",
       "  </tbody>\n",
       "</table>\n",
       "</div>"
      ],
      "text/plain": [
       "   Single Value\n",
       "0             0\n",
       "1             1\n",
       "2             3\n",
       "3             4\n",
       "4             7"
      ]
     },
     "execution_count": 33,
     "metadata": {},
     "output_type": "execute_result"
    }
   ],
   "source": [
    "df_2"
   ]
  },
  {
   "cell_type": "markdown",
   "metadata": {
    "id": "QbNZ1t2eMneq"
   },
   "source": [
    "How to add another column so that we get the cummulative sum for each row?"
   ]
  },
  {
   "cell_type": "code",
   "execution_count": 34,
   "metadata": {
    "colab": {
     "base_uri": "https://localhost:8080/",
     "height": 206
    },
    "id": "DpNyNQlfMneq",
    "outputId": "515b9d26-f4b2-41ff-ca01-63e5031a1b76"
   },
   "outputs": [
    {
     "data": {
      "text/html": [
       "<div>\n",
       "<style scoped>\n",
       "    .dataframe tbody tr th:only-of-type {\n",
       "        vertical-align: middle;\n",
       "    }\n",
       "\n",
       "    .dataframe tbody tr th {\n",
       "        vertical-align: top;\n",
       "    }\n",
       "\n",
       "    .dataframe thead th {\n",
       "        text-align: right;\n",
       "    }\n",
       "</style>\n",
       "<table border=\"1\" class=\"dataframe\">\n",
       "  <thead>\n",
       "    <tr style=\"text-align: right;\">\n",
       "      <th></th>\n",
       "      <th>Single Value</th>\n",
       "      <th>Cummulative</th>\n",
       "    </tr>\n",
       "  </thead>\n",
       "  <tbody>\n",
       "    <tr>\n",
       "      <th>0</th>\n",
       "      <td>0</td>\n",
       "      <td>0</td>\n",
       "    </tr>\n",
       "    <tr>\n",
       "      <th>1</th>\n",
       "      <td>1</td>\n",
       "      <td>1</td>\n",
       "    </tr>\n",
       "    <tr>\n",
       "      <th>2</th>\n",
       "      <td>3</td>\n",
       "      <td>4</td>\n",
       "    </tr>\n",
       "    <tr>\n",
       "      <th>3</th>\n",
       "      <td>4</td>\n",
       "      <td>8</td>\n",
       "    </tr>\n",
       "    <tr>\n",
       "      <th>4</th>\n",
       "      <td>7</td>\n",
       "      <td>15</td>\n",
       "    </tr>\n",
       "  </tbody>\n",
       "</table>\n",
       "</div>"
      ],
      "text/plain": [
       "   Single Value  Cummulative\n",
       "0             0            0\n",
       "1             1            1\n",
       "2             3            4\n",
       "3             4            8\n",
       "4             7           15"
      ]
     },
     "execution_count": 34,
     "metadata": {},
     "output_type": "execute_result"
    }
   ],
   "source": [
    "df_2['Cummulative'] = df_2['Single Value'].cumsum()\n",
    "df_2"
   ]
  },
  {
   "cell_type": "markdown",
   "metadata": {
    "id": "2QW0x_InMner"
   },
   "source": [
    "### Question 3"
   ]
  },
  {
   "cell_type": "markdown",
   "metadata": {
    "id": "D4tqms_1Mner"
   },
   "source": [
    "Write an if..else… code in Python to check whether a word is a palindrome or not. \n",
    "\n",
    "Input: ‘malam’\n",
    "\n",
    "Output: ‘malam’ is a Palindrome\n",
    "\n",
    "Input: ‘ABBA’\n",
    "\n",
    "Output: ‘ABBA’ is a Palindrome\n",
    "\n",
    "Input: ‘Python’\n",
    "\n",
    "Output: ‘Python’ is not a Palindrome.\n"
   ]
  },
  {
   "cell_type": "code",
   "execution_count": 35,
   "metadata": {
    "id": "w4xiIglyMnes"
   },
   "outputs": [],
   "source": [
    "def checkPal(text):\n",
    "    if (text.lower() == text[::-1].lower()):\n",
    "        print(\"'\" + text + \"' is a palindrome\")\n",
    "    else:\n",
    "        print(\"'\" + text + \"' is not a palindrome\")"
   ]
  },
  {
   "cell_type": "code",
   "execution_count": 36,
   "metadata": {
    "colab": {
     "base_uri": "https://localhost:8080/",
     "height": 0
    },
    "id": "kfB4x2lDMnes",
    "outputId": "a3fe452a-4fc6-443b-c4ce-442641b6cee5"
   },
   "outputs": [
    {
     "name": "stdout",
     "output_type": "stream",
     "text": [
      "'malam' is a palindrome\n"
     ]
    }
   ],
   "source": [
    "checkPal('malam')"
   ]
  },
  {
   "cell_type": "code",
   "execution_count": 37,
   "metadata": {
    "colab": {
     "base_uri": "https://localhost:8080/",
     "height": 0
    },
    "id": "5GcOsb_OMnes",
    "outputId": "40b6eea1-0ada-4d6a-dbf6-4d13508b0701"
   },
   "outputs": [
    {
     "name": "stdout",
     "output_type": "stream",
     "text": [
      "'ABBA' is a palindrome\n"
     ]
    }
   ],
   "source": [
    "checkPal('ABBA')"
   ]
  },
  {
   "cell_type": "code",
   "execution_count": 38,
   "metadata": {
    "colab": {
     "base_uri": "https://localhost:8080/",
     "height": 0
    },
    "id": "XOuj3-A1Mnet",
    "outputId": "f84e431d-05dd-47c4-8a28-267fa811b38d"
   },
   "outputs": [
    {
     "name": "stdout",
     "output_type": "stream",
     "text": [
      "'Python' is not a palindrome\n"
     ]
    }
   ],
   "source": [
    "checkPal('Python')"
   ]
  },
  {
   "cell_type": "markdown",
   "metadata": {
    "id": "nsBg5GJTMnet"
   },
   "source": [
    "### Question 4\n",
    "\n",
    "As seen in the powerpoint slide, how to change the current dataframe into the desired result?"
   ]
  },
  {
   "cell_type": "code",
   "execution_count": 39,
   "metadata": {
    "id": "jai53CcdMnet"
   },
   "outputs": [],
   "source": [
    "df_4 = pd.DataFrame({\n",
    "    'Buyer':['Aldo', 'Budi', 'Cindy', 'Dilan'],\n",
    "    'Items Bought':[['book', 'magazine'], ['realme 8', 'screen protector'],\n",
    "                   ['iPhone 11', 'power bank'], ['face shield', 'mask', 'hand sanitizer']]\n",
    "})"
   ]
  },
  {
   "cell_type": "code",
   "execution_count": 40,
   "metadata": {
    "colab": {
     "base_uri": "https://localhost:8080/",
     "height": 175
    },
    "id": "CZ9vwWWFMnet",
    "outputId": "b933a3fd-f3bf-4676-f6d5-1ffbcd850072"
   },
   "outputs": [
    {
     "data": {
      "text/html": [
       "<div>\n",
       "<style scoped>\n",
       "    .dataframe tbody tr th:only-of-type {\n",
       "        vertical-align: middle;\n",
       "    }\n",
       "\n",
       "    .dataframe tbody tr th {\n",
       "        vertical-align: top;\n",
       "    }\n",
       "\n",
       "    .dataframe thead th {\n",
       "        text-align: right;\n",
       "    }\n",
       "</style>\n",
       "<table border=\"1\" class=\"dataframe\">\n",
       "  <thead>\n",
       "    <tr style=\"text-align: right;\">\n",
       "      <th></th>\n",
       "      <th>Buyer</th>\n",
       "      <th>Items Bought</th>\n",
       "    </tr>\n",
       "  </thead>\n",
       "  <tbody>\n",
       "    <tr>\n",
       "      <th>0</th>\n",
       "      <td>Aldo</td>\n",
       "      <td>[book, magazine]</td>\n",
       "    </tr>\n",
       "    <tr>\n",
       "      <th>1</th>\n",
       "      <td>Budi</td>\n",
       "      <td>[realme 8, screen protector]</td>\n",
       "    </tr>\n",
       "    <tr>\n",
       "      <th>2</th>\n",
       "      <td>Cindy</td>\n",
       "      <td>[iPhone 11, power bank]</td>\n",
       "    </tr>\n",
       "    <tr>\n",
       "      <th>3</th>\n",
       "      <td>Dilan</td>\n",
       "      <td>[face shield, mask, hand sanitizer]</td>\n",
       "    </tr>\n",
       "  </tbody>\n",
       "</table>\n",
       "</div>"
      ],
      "text/plain": [
       "   Buyer                         Items Bought\n",
       "0   Aldo                     [book, magazine]\n",
       "1   Budi         [realme 8, screen protector]\n",
       "2  Cindy              [iPhone 11, power bank]\n",
       "3  Dilan  [face shield, mask, hand sanitizer]"
      ]
     },
     "execution_count": 40,
     "metadata": {},
     "output_type": "execute_result"
    }
   ],
   "source": [
    "df_4"
   ]
  },
  {
   "cell_type": "code",
   "execution_count": 41,
   "metadata": {
    "colab": {
     "base_uri": "https://localhost:8080/",
     "height": 331
    },
    "id": "Nin6m0u-Mneu",
    "outputId": "5988b148-bc00-48cf-e6e1-7b1d2cd33767"
   },
   "outputs": [
    {
     "data": {
      "text/html": [
       "<div>\n",
       "<style scoped>\n",
       "    .dataframe tbody tr th:only-of-type {\n",
       "        vertical-align: middle;\n",
       "    }\n",
       "\n",
       "    .dataframe tbody tr th {\n",
       "        vertical-align: top;\n",
       "    }\n",
       "\n",
       "    .dataframe thead th {\n",
       "        text-align: right;\n",
       "    }\n",
       "</style>\n",
       "<table border=\"1\" class=\"dataframe\">\n",
       "  <thead>\n",
       "    <tr style=\"text-align: right;\">\n",
       "      <th></th>\n",
       "      <th>Buyer</th>\n",
       "      <th>Items Bought</th>\n",
       "    </tr>\n",
       "  </thead>\n",
       "  <tbody>\n",
       "    <tr>\n",
       "      <th>0</th>\n",
       "      <td>Aldo</td>\n",
       "      <td>book</td>\n",
       "    </tr>\n",
       "    <tr>\n",
       "      <th>1</th>\n",
       "      <td>Aldo</td>\n",
       "      <td>magazine</td>\n",
       "    </tr>\n",
       "    <tr>\n",
       "      <th>2</th>\n",
       "      <td>Budi</td>\n",
       "      <td>realme 8</td>\n",
       "    </tr>\n",
       "    <tr>\n",
       "      <th>3</th>\n",
       "      <td>Budi</td>\n",
       "      <td>screen protector</td>\n",
       "    </tr>\n",
       "    <tr>\n",
       "      <th>4</th>\n",
       "      <td>Cindy</td>\n",
       "      <td>iPhone 11</td>\n",
       "    </tr>\n",
       "    <tr>\n",
       "      <th>5</th>\n",
       "      <td>Cindy</td>\n",
       "      <td>power bank</td>\n",
       "    </tr>\n",
       "    <tr>\n",
       "      <th>6</th>\n",
       "      <td>Dilan</td>\n",
       "      <td>face shield</td>\n",
       "    </tr>\n",
       "    <tr>\n",
       "      <th>7</th>\n",
       "      <td>Dilan</td>\n",
       "      <td>mask</td>\n",
       "    </tr>\n",
       "    <tr>\n",
       "      <th>8</th>\n",
       "      <td>Dilan</td>\n",
       "      <td>hand sanitizer</td>\n",
       "    </tr>\n",
       "  </tbody>\n",
       "</table>\n",
       "</div>"
      ],
      "text/plain": [
       "   Buyer      Items Bought\n",
       "0   Aldo              book\n",
       "1   Aldo          magazine\n",
       "2   Budi          realme 8\n",
       "3   Budi  screen protector\n",
       "4  Cindy         iPhone 11\n",
       "5  Cindy        power bank\n",
       "6  Dilan       face shield\n",
       "7  Dilan              mask\n",
       "8  Dilan    hand sanitizer"
      ]
     },
     "execution_count": 41,
     "metadata": {},
     "output_type": "execute_result"
    }
   ],
   "source": [
    "# prepare an empty list for each columns\n",
    "buyer_list = []\n",
    "item_list = []\n",
    "\n",
    "# generate each row entry as a list\n",
    "for i in range(0, len(df_4)):\n",
    "    for item in df_4['Items Bought'][i]:\n",
    "        buyer_list.append(df_4['Buyer'][i])\n",
    "        item_list.append(item)\n",
    "        \n",
    "# create a new df from the generated list\n",
    "df_4_long = pd.DataFrame(zip(buyer_list, item_list))\n",
    "df_4_long.columns = df_4.columns\n",
    "\n",
    "df_4_long"
   ]
  },
  {
   "cell_type": "markdown",
   "metadata": {
    "id": "Fv5JFZCRMneu"
   },
   "source": [
    "### Question 5\n",
    "\n",
    "If item 1 and item 2 shows the same product when switched, then it is counted as a duplicate. For examples are row 0 and 2, row 6 and row 7. \n",
    "\n",
    "How to delete the duplicate? "
   ]
  },
  {
   "cell_type": "code",
   "execution_count": 42,
   "metadata": {
    "id": "tv4D7pDMMneu"
   },
   "outputs": [],
   "source": [
    "df_5 = pd.DataFrame({\n",
    "    'Item 1':['Buku', 'Buku', 'Majalah', 'iPhone', 'iPhone', 'Alat Tulis', 'Mouse', 'Keyboard'],\n",
    "    'Item 2' : ['Majalah', 'Koran', 'Buku', 'Charger', 'Power Bank', 'Buku', 'Keyboard', 'Mouse']\n",
    "})"
   ]
  },
  {
   "cell_type": "code",
   "execution_count": 43,
   "metadata": {
    "colab": {
     "base_uri": "https://localhost:8080/",
     "height": 300
    },
    "id": "wnAE2LW2Mnev",
    "outputId": "c12b831a-40ec-48cd-fc1c-79411befb668"
   },
   "outputs": [
    {
     "data": {
      "text/html": [
       "<div>\n",
       "<style scoped>\n",
       "    .dataframe tbody tr th:only-of-type {\n",
       "        vertical-align: middle;\n",
       "    }\n",
       "\n",
       "    .dataframe tbody tr th {\n",
       "        vertical-align: top;\n",
       "    }\n",
       "\n",
       "    .dataframe thead th {\n",
       "        text-align: right;\n",
       "    }\n",
       "</style>\n",
       "<table border=\"1\" class=\"dataframe\">\n",
       "  <thead>\n",
       "    <tr style=\"text-align: right;\">\n",
       "      <th></th>\n",
       "      <th>Item 1</th>\n",
       "      <th>Item 2</th>\n",
       "    </tr>\n",
       "  </thead>\n",
       "  <tbody>\n",
       "    <tr>\n",
       "      <th>0</th>\n",
       "      <td>Buku</td>\n",
       "      <td>Majalah</td>\n",
       "    </tr>\n",
       "    <tr>\n",
       "      <th>1</th>\n",
       "      <td>Buku</td>\n",
       "      <td>Koran</td>\n",
       "    </tr>\n",
       "    <tr>\n",
       "      <th>2</th>\n",
       "      <td>Majalah</td>\n",
       "      <td>Buku</td>\n",
       "    </tr>\n",
       "    <tr>\n",
       "      <th>3</th>\n",
       "      <td>iPhone</td>\n",
       "      <td>Charger</td>\n",
       "    </tr>\n",
       "    <tr>\n",
       "      <th>4</th>\n",
       "      <td>iPhone</td>\n",
       "      <td>Power Bank</td>\n",
       "    </tr>\n",
       "    <tr>\n",
       "      <th>5</th>\n",
       "      <td>Alat Tulis</td>\n",
       "      <td>Buku</td>\n",
       "    </tr>\n",
       "    <tr>\n",
       "      <th>6</th>\n",
       "      <td>Mouse</td>\n",
       "      <td>Keyboard</td>\n",
       "    </tr>\n",
       "    <tr>\n",
       "      <th>7</th>\n",
       "      <td>Keyboard</td>\n",
       "      <td>Mouse</td>\n",
       "    </tr>\n",
       "  </tbody>\n",
       "</table>\n",
       "</div>"
      ],
      "text/plain": [
       "       Item 1      Item 2\n",
       "0        Buku     Majalah\n",
       "1        Buku       Koran\n",
       "2     Majalah        Buku\n",
       "3      iPhone     Charger\n",
       "4      iPhone  Power Bank\n",
       "5  Alat Tulis        Buku\n",
       "6       Mouse    Keyboard\n",
       "7    Keyboard       Mouse"
      ]
     },
     "execution_count": 43,
     "metadata": {},
     "output_type": "execute_result"
    }
   ],
   "source": [
    "df_5"
   ]
  },
  {
   "cell_type": "code",
   "execution_count": 44,
   "metadata": {
    "colab": {
     "base_uri": "https://localhost:8080/",
     "height": 0
    },
    "id": "7o_DSnU3Mnev",
    "outputId": "2ba68190-62d4-4a1c-846c-f65991f93c0e"
   },
   "outputs": [
    {
     "data": {
      "text/plain": [
       "[('Buku', 'Majalah'),\n",
       " ('Buku', 'Koran'),\n",
       " ('Majalah', 'Buku'),\n",
       " ('iPhone', 'Charger'),\n",
       " ('iPhone', 'Power Bank'),\n",
       " ('Alat Tulis', 'Buku'),\n",
       " ('Mouse', 'Keyboard'),\n",
       " ('Keyboard', 'Mouse')]"
      ]
     },
     "execution_count": 44,
     "metadata": {},
     "output_type": "execute_result"
    }
   ],
   "source": [
    "original_tuple = [(item_1, item_2) for item_1, item_2 in zip(df_5['Item 1'], df_5['Item 2'])]\n",
    "\n",
    "original_tuple"
   ]
  },
  {
   "cell_type": "code",
   "execution_count": 45,
   "metadata": {
    "id": "QjCDOpqAMnev"
   },
   "outputs": [],
   "source": [
    "# prepare list to keep track for deduplicated entries and the duplicates\n",
    "dedup_list = []\n",
    "duplicate_list = []\n",
    "\n",
    "for tup in original_tuple:\n",
    "    # condition for duplicates: just ignore\n",
    "    if tup in duplicate_list:\n",
    "        pass\n",
    "    # condition for the 1st occurence of tuple with duplicates\n",
    "    # i.e. the flipped version is in the original list, but we haven't appended it to the list of duplicates yet\n",
    "    elif tup[::-1] in original_tuple and tup not in duplicate_list:\n",
    "        # append the original tuple to the deduplicated list\n",
    "        dedup_list.append(tup)\n",
    "        # append the flipped version to the list of duplicates\n",
    "        duplicate_list.append(tup[::-1])\n",
    "    # condition for tuples with no duplicates: just append to the deduplicated list\n",
    "    else:\n",
    "        dedup_list.append(tup)\n",
    "        \n",
    "# create a new DF based on the deduplicated list\n",
    "df_5_dedup = pd.DataFrame(dedup_list)\n",
    "df_5_dedup.columns = df_5.columns"
   ]
  },
  {
   "cell_type": "code",
   "execution_count": 46,
   "metadata": {
    "colab": {
     "base_uri": "https://localhost:8080/",
     "height": 237
    },
    "id": "ZsDdjoviMnew",
    "outputId": "85ab5377-2749-4bbb-ba4e-c3a0320bc681"
   },
   "outputs": [
    {
     "data": {
      "text/html": [
       "<div>\n",
       "<style scoped>\n",
       "    .dataframe tbody tr th:only-of-type {\n",
       "        vertical-align: middle;\n",
       "    }\n",
       "\n",
       "    .dataframe tbody tr th {\n",
       "        vertical-align: top;\n",
       "    }\n",
       "\n",
       "    .dataframe thead th {\n",
       "        text-align: right;\n",
       "    }\n",
       "</style>\n",
       "<table border=\"1\" class=\"dataframe\">\n",
       "  <thead>\n",
       "    <tr style=\"text-align: right;\">\n",
       "      <th></th>\n",
       "      <th>Item 1</th>\n",
       "      <th>Item 2</th>\n",
       "    </tr>\n",
       "  </thead>\n",
       "  <tbody>\n",
       "    <tr>\n",
       "      <th>0</th>\n",
       "      <td>Buku</td>\n",
       "      <td>Majalah</td>\n",
       "    </tr>\n",
       "    <tr>\n",
       "      <th>1</th>\n",
       "      <td>Buku</td>\n",
       "      <td>Koran</td>\n",
       "    </tr>\n",
       "    <tr>\n",
       "      <th>2</th>\n",
       "      <td>iPhone</td>\n",
       "      <td>Charger</td>\n",
       "    </tr>\n",
       "    <tr>\n",
       "      <th>3</th>\n",
       "      <td>iPhone</td>\n",
       "      <td>Power Bank</td>\n",
       "    </tr>\n",
       "    <tr>\n",
       "      <th>4</th>\n",
       "      <td>Alat Tulis</td>\n",
       "      <td>Buku</td>\n",
       "    </tr>\n",
       "    <tr>\n",
       "      <th>5</th>\n",
       "      <td>Mouse</td>\n",
       "      <td>Keyboard</td>\n",
       "    </tr>\n",
       "  </tbody>\n",
       "</table>\n",
       "</div>"
      ],
      "text/plain": [
       "       Item 1      Item 2\n",
       "0        Buku     Majalah\n",
       "1        Buku       Koran\n",
       "2      iPhone     Charger\n",
       "3      iPhone  Power Bank\n",
       "4  Alat Tulis        Buku\n",
       "5       Mouse    Keyboard"
      ]
     },
     "execution_count": 46,
     "metadata": {},
     "output_type": "execute_result"
    }
   ],
   "source": [
    "df_5_dedup"
   ]
  }
 ],
 "metadata": {
  "colab": {
   "name": "Digital Skill Fair Questions for Participant (1).ipynb",
   "provenance": []
  },
  "kernelspec": {
   "display_name": "Python 3 (ipykernel)",
   "language": "python",
   "name": "python3"
  },
  "language_info": {
   "codemirror_mode": {
    "name": "ipython",
    "version": 3
   },
   "file_extension": ".py",
   "mimetype": "text/x-python",
   "name": "python",
   "nbconvert_exporter": "python",
   "pygments_lexer": "ipython3",
   "version": "3.7.4"
  }
 },
 "nbformat": 4,
 "nbformat_minor": 1
}
